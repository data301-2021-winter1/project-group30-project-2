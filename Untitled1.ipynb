{
 "cells": [
  {
   "cell_type": "code",
   "execution_count": 5,
   "id": "21f5a97c-1114-42f5-b770-e3fc317060e1",
   "metadata": {},
   "outputs": [
    {
     "name": "stdout",
     "output_type": "stream",
     "text": [
      "pip 21.1.3 from /Users/alexrichkum/Desktop/miniconda3/lib/python3.9/site-packages/pip (python 3.9)\n",
      "Note: you may need to restart the kernel to use updated packages.\n"
     ]
    }
   ],
   "source": [
    "pip -V"
   ]
  },
  {
   "cell_type": "code",
   "execution_count": 7,
   "id": "bd658c98-015c-4fd4-b1dd-f9397665b53a",
   "metadata": {},
   "outputs": [
    {
     "name": "stdout",
     "output_type": "stream",
     "text": [
      "Requirement already satisfied: matplotlib in /Users/alexrichkum/Desktop/miniconda3/lib/python3.9/site-packages (3.4.3)\n",
      "Requirement already satisfied: kiwisolver>=1.0.1 in /Users/alexrichkum/Desktop/miniconda3/lib/python3.9/site-packages (from matplotlib) (1.3.2)\n",
      "Requirement already satisfied: pyparsing>=2.2.1 in /Users/alexrichkum/Desktop/miniconda3/lib/python3.9/site-packages (from matplotlib) (2.4.7)\n",
      "Requirement already satisfied: cycler>=0.10 in /Users/alexrichkum/Desktop/miniconda3/lib/python3.9/site-packages (from matplotlib) (0.11.0)\n",
      "Requirement already satisfied: pillow>=6.2.0 in /Users/alexrichkum/Desktop/miniconda3/lib/python3.9/site-packages (from matplotlib) (8.4.0)\n",
      "Requirement already satisfied: python-dateutil>=2.7 in /Users/alexrichkum/Desktop/miniconda3/lib/python3.9/site-packages (from matplotlib) (2.8.2)\n",
      "Requirement already satisfied: numpy>=1.16 in /Users/alexrichkum/Desktop/miniconda3/lib/python3.9/site-packages (from matplotlib) (1.21.3)\n",
      "Requirement already satisfied: six>=1.5 in /Users/alexrichkum/Desktop/miniconda3/lib/python3.9/site-packages (from python-dateutil>=2.7->matplotlib) (1.16.0)\n",
      "Note: you may need to restart the kernel to use updated packages.\n"
     ]
    }
   ],
   "source": [
    "pip install matplotlib"
   ]
  },
  {
   "cell_type": "code",
   "execution_count": 10,
   "id": "d61ee6a4-0174-4840-9aca-d2618acfb3b8",
   "metadata": {},
   "outputs": [
    {
     "data": {
      "text/plain": [
       "'3.4.3'"
      ]
     },
     "execution_count": 10,
     "metadata": {},
     "output_type": "execute_result"
    }
   ],
   "source": [
    "import matplotlib\n",
    "matplotlib.__version__"
   ]
  },
  {
   "cell_type": "code",
   "execution_count": 11,
   "id": "35513dd1-1822-4903-9f31-b740adc5b1ee",
   "metadata": {},
   "outputs": [
    {
     "name": "stdout",
     "output_type": "stream",
     "text": [
      "Collecting seaborn\n",
      "  Downloading seaborn-0.11.2-py3-none-any.whl (292 kB)\n",
      "\u001b[K     |████████████████████████████████| 292 kB 1.7 MB/s eta 0:00:01\n",
      "\u001b[?25hRequirement already satisfied: numpy>=1.15 in /Users/alexrichkum/Desktop/miniconda3/lib/python3.9/site-packages (from seaborn) (1.21.3)\n",
      "Collecting scipy>=1.0\n",
      "  Downloading scipy-1.7.1-cp39-cp39-macosx_10_9_x86_64.whl (32.8 MB)\n",
      "\u001b[K     |████████████████████████████████| 32.8 MB 1.8 MB/s eta 0:00:011     |███████████████████████▌        | 24.1 MB 10.6 MB/s eta 0:00:01\n",
      "\u001b[?25hRequirement already satisfied: matplotlib>=2.2 in /Users/alexrichkum/Desktop/miniconda3/lib/python3.9/site-packages (from seaborn) (3.4.3)\n",
      "Requirement already satisfied: pandas>=0.23 in /Users/alexrichkum/Desktop/miniconda3/lib/python3.9/site-packages (from seaborn) (1.3.3)\n",
      "Requirement already satisfied: cycler>=0.10 in /Users/alexrichkum/Desktop/miniconda3/lib/python3.9/site-packages (from matplotlib>=2.2->seaborn) (0.11.0)\n",
      "Requirement already satisfied: pyparsing>=2.2.1 in /Users/alexrichkum/Desktop/miniconda3/lib/python3.9/site-packages (from matplotlib>=2.2->seaborn) (2.4.7)\n",
      "Requirement already satisfied: kiwisolver>=1.0.1 in /Users/alexrichkum/Desktop/miniconda3/lib/python3.9/site-packages (from matplotlib>=2.2->seaborn) (1.3.2)\n",
      "Requirement already satisfied: python-dateutil>=2.7 in /Users/alexrichkum/Desktop/miniconda3/lib/python3.9/site-packages (from matplotlib>=2.2->seaborn) (2.8.2)\n",
      "Requirement already satisfied: pillow>=6.2.0 in /Users/alexrichkum/Desktop/miniconda3/lib/python3.9/site-packages (from matplotlib>=2.2->seaborn) (8.4.0)\n",
      "Requirement already satisfied: pytz>=2017.3 in /Users/alexrichkum/Desktop/miniconda3/lib/python3.9/site-packages (from pandas>=0.23->seaborn) (2021.1)\n",
      "Requirement already satisfied: six>=1.5 in /Users/alexrichkum/Desktop/miniconda3/lib/python3.9/site-packages (from python-dateutil>=2.7->matplotlib>=2.2->seaborn) (1.16.0)\n",
      "Installing collected packages: scipy, seaborn\n",
      "Successfully installed scipy-1.7.1 seaborn-0.11.2\n",
      "Note: you may need to restart the kernel to use updated packages.\n"
     ]
    }
   ],
   "source": [
    "pip install seaborn"
   ]
  },
  {
   "cell_type": "code",
   "execution_count": 12,
   "id": "804a8a6b-19cc-440f-8ebd-c5be9ee4431f",
   "metadata": {},
   "outputs": [
    {
     "name": "stdout",
     "output_type": "stream",
     "text": [
      "Collecting package metadata (current_repodata.json): done\n",
      "Solving environment: done\n",
      "\n",
      "## Package Plan ##\n",
      "\n",
      "  environment location: /Users/alexrichkum/Desktop/miniconda3\n",
      "\n",
      "  added / updated specs:\n",
      "    - seaborn\n",
      "\n",
      "\n",
      "The following packages will be downloaded:\n",
      "\n",
      "    package                    |            build\n",
      "    ---------------------------|-----------------\n",
      "    cycler-0.11.0              |     pyhd8ed1ab_0          10 KB  conda-forge\n",
      "    freetype-2.10.4            |       h4cff582_1         890 KB  conda-forge\n",
      "    jbig-2.1                   |    h0d85af4_2003          42 KB  conda-forge\n",
      "    jpeg-9d                    |       hbcb3906_0         250 KB  conda-forge\n",
      "    kiwisolver-1.3.2           |   py39hf018cea_0          59 KB  conda-forge\n",
      "    lcms2-2.12                 |       h577c468_0         404 KB  conda-forge\n",
      "    lerc-2.2.1                 |       h046ec9c_0         164 KB  conda-forge\n",
      "    libcxx-12.0.1              |       habf9029_0         1.1 MB  conda-forge\n",
      "    libdeflate-1.7             |       h35c211d_5          67 KB  conda-forge\n",
      "    libpng-1.6.37              |       h7cec526_2         313 KB  conda-forge\n",
      "    libtiff-4.3.0              |       h1167814_1         621 KB  conda-forge\n",
      "    libwebp-base-1.2.1         |       h0d85af4_0         692 KB  conda-forge\n",
      "    lz4-c-1.9.3                |       he49afe7_1         155 KB  conda-forge\n",
      "    matplotlib-base-3.4.3      |   py39hb07454d_1         7.3 MB  conda-forge\n",
      "    olefile-0.46               |     pyh9f0ad1d_1          32 KB  conda-forge\n",
      "    patsy-0.5.2                |     pyhd8ed1ab_0         188 KB  conda-forge\n",
      "    pillow-7.2.0               |   py39h31b929e_2         634 KB  conda-forge\n",
      "    scipy-1.7.1                |   py39h056f1c0_0        19.9 MB  conda-forge\n",
      "    seaborn-0.11.2             |       hd8ed1ab_0           4 KB  conda-forge\n",
      "    seaborn-base-0.11.2        |     pyhd8ed1ab_0         223 KB  conda-forge\n",
      "    statsmodels-0.13.0         |   py39hc89836e_0        10.6 MB  conda-forge\n",
      "    zstd-1.5.0                 |       h582d3a0_0         583 KB  conda-forge\n",
      "    ------------------------------------------------------------\n",
      "                                           Total:        44.2 MB\n",
      "\n",
      "The following NEW packages will be INSTALLED:\n",
      "\n",
      "  cycler             conda-forge/noarch::cycler-0.11.0-pyhd8ed1ab_0\n",
      "  freetype           conda-forge/osx-64::freetype-2.10.4-h4cff582_1\n",
      "  jbig               conda-forge/osx-64::jbig-2.1-h0d85af4_2003\n",
      "  jpeg               conda-forge/osx-64::jpeg-9d-hbcb3906_0\n",
      "  kiwisolver         conda-forge/osx-64::kiwisolver-1.3.2-py39hf018cea_0\n",
      "  lcms2              conda-forge/osx-64::lcms2-2.12-h577c468_0\n",
      "  lerc               conda-forge/osx-64::lerc-2.2.1-h046ec9c_0\n",
      "  libdeflate         conda-forge/osx-64::libdeflate-1.7-h35c211d_5\n",
      "  libpng             conda-forge/osx-64::libpng-1.6.37-h7cec526_2\n",
      "  libtiff            conda-forge/osx-64::libtiff-4.3.0-h1167814_1\n",
      "  libwebp-base       conda-forge/osx-64::libwebp-base-1.2.1-h0d85af4_0\n",
      "  lz4-c              conda-forge/osx-64::lz4-c-1.9.3-he49afe7_1\n",
      "  matplotlib-base    conda-forge/osx-64::matplotlib-base-3.4.3-py39hb07454d_1\n",
      "  olefile            conda-forge/noarch::olefile-0.46-pyh9f0ad1d_1\n",
      "  patsy              conda-forge/noarch::patsy-0.5.2-pyhd8ed1ab_0\n",
      "  pillow             conda-forge/osx-64::pillow-7.2.0-py39h31b929e_2\n",
      "  scipy              conda-forge/osx-64::scipy-1.7.1-py39h056f1c0_0\n",
      "  seaborn            conda-forge/noarch::seaborn-0.11.2-hd8ed1ab_0\n",
      "  seaborn-base       conda-forge/noarch::seaborn-base-0.11.2-pyhd8ed1ab_0\n",
      "  statsmodels        conda-forge/osx-64::statsmodels-0.13.0-py39hc89836e_0\n",
      "  zstd               conda-forge/osx-64::zstd-1.5.0-h582d3a0_0\n",
      "\n",
      "The following packages will be UPDATED:\n",
      "\n",
      "  libcxx                         pkgs/main::libcxx-10.0.0-1 --> conda-forge::libcxx-12.0.1-habf9029_0\n",
      "\n",
      "\n",
      "\n",
      "Downloading and Extracting Packages\n",
      "olefile-0.46         | 32 KB     | ##################################### | 100% \n",
      "pillow-7.2.0         | 634 KB    | ##################################### | 100% \n",
      "seaborn-0.11.2       | 4 KB      | ##################################### | 100% \n",
      "lerc-2.2.1           | 164 KB    | ##################################### | 100% \n",
      "statsmodels-0.13.0   | 10.6 MB   | ##################################### | 100% \n",
      "kiwisolver-1.3.2     | 59 KB     | ##################################### | 100% \n",
      "libdeflate-1.7       | 67 KB     | ##################################### | 100% \n",
      "lz4-c-1.9.3          | 155 KB    | ##################################### | 100% \n",
      "libpng-1.6.37        | 313 KB    | ##################################### | 100% \n",
      "libwebp-base-1.2.1   | 692 KB    | ##################################### | 100% \n",
      "freetype-2.10.4      | 890 KB    | ##################################### | 100% \n",
      "lcms2-2.12           | 404 KB    | ##################################### | 100% \n",
      "libcxx-12.0.1        | 1.1 MB    | ##################################### | 100% \n",
      "libtiff-4.3.0        | 621 KB    | ##################################### | 100% \n",
      "zstd-1.5.0           | 583 KB    | ##################################### | 100% \n",
      "jbig-2.1             | 42 KB     | ##################################### | 100% \n",
      "scipy-1.7.1          | 19.9 MB   | ##################################### | 100% \n",
      "seaborn-base-0.11.2  | 223 KB    | ##################################### | 100% \n",
      "jpeg-9d              | 250 KB    | ##################################### | 100% \n",
      "patsy-0.5.2          | 188 KB    | ##################################### | 100% \n",
      "cycler-0.11.0        | 10 KB     | ##################################### | 100% \n",
      "matplotlib-base-3.4. | 7.3 MB    | ##################################### | 100% \n",
      "Preparing transaction: done\n",
      "Verifying transaction: done\n",
      "Executing transaction: done\n",
      "\n",
      "Note: you may need to restart the kernel to use updated packages.\n"
     ]
    }
   ],
   "source": [
    "conda install seaborn"
   ]
  },
  {
   "cell_type": "code",
   "execution_count": 15,
   "id": "d1d6e90f-fda5-4bc1-bd70-d77b5cf24166",
   "metadata": {},
   "outputs": [
    {
     "name": "stdout",
     "output_type": "stream",
     "text": [
      "\u001b[31mERROR: Directory '.' is not installable. Neither 'setup.py' nor 'pyproject.toml' found.\u001b[0m\n",
      "Note: you may need to restart the kernel to use updated packages.\n"
     ]
    }
   ],
   "source": [
    "pip install ."
   ]
  },
  {
   "cell_type": "code",
   "execution_count": 16,
   "id": "46ee92f1-adfe-41e3-aa44-658a10c1f017",
   "metadata": {},
   "outputs": [
    {
     "name": "stdout",
     "output_type": "stream",
     "text": [
      "Collecting missingno\n",
      "  Downloading missingno-0.5.0-py3-none-any.whl (8.8 kB)\n",
      "Requirement already satisfied: scipy in /Users/alexrichkum/Desktop/miniconda3/lib/python3.9/site-packages (from missingno) (1.7.1)\n",
      "Requirement already satisfied: numpy in /Users/alexrichkum/Desktop/miniconda3/lib/python3.9/site-packages (from missingno) (1.21.3)\n",
      "Requirement already satisfied: seaborn in /Users/alexrichkum/Desktop/miniconda3/lib/python3.9/site-packages (from missingno) (0.11.2)\n",
      "Requirement already satisfied: matplotlib in /Users/alexrichkum/Desktop/miniconda3/lib/python3.9/site-packages (from missingno) (3.4.3)\n",
      "Requirement already satisfied: kiwisolver>=1.0.1 in /Users/alexrichkum/Desktop/miniconda3/lib/python3.9/site-packages (from matplotlib->missingno) (1.3.2)\n",
      "Requirement already satisfied: python-dateutil>=2.7 in /Users/alexrichkum/Desktop/miniconda3/lib/python3.9/site-packages (from matplotlib->missingno) (2.8.2)\n",
      "Requirement already satisfied: pyparsing>=2.2.1 in /Users/alexrichkum/Desktop/miniconda3/lib/python3.9/site-packages (from matplotlib->missingno) (2.4.7)\n",
      "Requirement already satisfied: cycler>=0.10 in /Users/alexrichkum/Desktop/miniconda3/lib/python3.9/site-packages (from matplotlib->missingno) (0.11.0)\n",
      "Requirement already satisfied: pillow>=6.2.0 in /Users/alexrichkum/Desktop/miniconda3/lib/python3.9/site-packages (from matplotlib->missingno) (8.4.0)\n",
      "Requirement already satisfied: six>=1.5 in /Users/alexrichkum/Desktop/miniconda3/lib/python3.9/site-packages (from python-dateutil>=2.7->matplotlib->missingno) (1.16.0)\n",
      "Requirement already satisfied: pandas>=0.23 in /Users/alexrichkum/Desktop/miniconda3/lib/python3.9/site-packages (from seaborn->missingno) (1.3.3)\n",
      "Requirement already satisfied: pytz>=2017.3 in /Users/alexrichkum/Desktop/miniconda3/lib/python3.9/site-packages (from pandas>=0.23->seaborn->missingno) (2021.1)\n",
      "Installing collected packages: missingno\n",
      "Successfully installed missingno-0.5.0\n",
      "Note: you may need to restart the kernel to use updated packages.\n"
     ]
    }
   ],
   "source": [
    "pip install missingno"
   ]
  },
  {
   "cell_type": "code",
   "execution_count": null,
   "id": "9fa144d5-128f-4d28-9d5f-fbfea06a2b7b",
   "metadata": {},
   "outputs": [],
   "source": []
  }
 ],
 "metadata": {
  "kernelspec": {
   "display_name": "Python 3",
   "language": "python",
   "name": "python3"
  },
  "language_info": {
   "codemirror_mode": {
    "name": "ipython",
    "version": 3
   },
   "file_extension": ".py",
   "mimetype": "text/x-python",
   "name": "python",
   "nbconvert_exporter": "python",
   "pygments_lexer": "ipython3",
   "version": "3.9.5"
  }
 },
 "nbformat": 4,
 "nbformat_minor": 5
}
