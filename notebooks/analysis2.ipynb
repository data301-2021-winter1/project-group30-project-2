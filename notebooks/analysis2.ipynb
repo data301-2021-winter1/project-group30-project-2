{
 "cells": [
  {
   "cell_type": "markdown",
   "source": [
    "# Guopeng Zhou"
   ],
   "metadata": {}
  },
  {
   "cell_type": "markdown",
   "source": [
    "## What is the differences of installation process that affects the game ratings?",
    "\r\n",
    "I want to use the dataset to analyse the price range for the different games."
   ],
   "metadata": {}
  }
 ],
 "metadata": {
  "orig_nbformat": 4,
  "language_info": {
   "name": "plaintext"
  }
 },
 "nbformat": 4,
 "nbformat_minor": 2
}
