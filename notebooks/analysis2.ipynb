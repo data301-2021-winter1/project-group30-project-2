{
 "cells": [
  {
   "cell_type": "markdown",
   "source": [
    "# Guopeng Zhou"
   ],
   "metadata": {}
  },
  {
   "cell_type": "markdown",
   "source": [
    "## what are the main factors  that affect the game rating?",
    "\r\n",
    "I want to use the dataset to analyse the price range and consumer purchasing prefereneces for the different games."
   ],
   "metadata": {}
  }
 ],
 "metadata": {
  "orig_nbformat": 4,
  "language_info": {
   "name": "plaintext"
  }
 },
 "nbformat": 4,
 "nbformat_minor": 2
}
