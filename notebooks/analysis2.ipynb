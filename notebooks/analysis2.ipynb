{
 "cells": [
  {
   "cell_type": "markdown",
   "source": [
    "# Guopeng Zhou"
   ],
   "metadata": {}
  },
  {
   "cell_type": "markdown",
   "source": [
    "## what is thedifferences of installation process that affects the game ratings?",
    "\r\n",
    "Briefly describe your research question or interests here."
   ],
   "metadata": {}
  }
 ],
 "metadata": {
  "orig_nbformat": 4,
  "language_info": {
   "name": "plaintext"
  }
 },
 "nbformat": 4,
 "nbformat_minor": 2
}
