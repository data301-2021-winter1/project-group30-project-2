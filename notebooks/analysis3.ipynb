{
 "cells": [
  {
   "cell_type": "markdown",
   "source": [
    "# Bathara Kurnia Gusti Sugriat"
   ],
   "metadata": {}
  },
  {
   "cell_type": "markdown",
   "source": [
    "## How does game categories affects the ratings of a game?\r\n",
    "\r\n",
    "A rare research insight on how gaming categories (i.e adventure, action) affects the ratings of a game."
   ],
   "metadata": {}
  }
 ],
 "metadata": {
  "orig_nbformat": 4,
  "language_info": {
   "name": "plaintext"
  }
 },
 "nbformat": 4,
 "nbformat_minor": 2
}
