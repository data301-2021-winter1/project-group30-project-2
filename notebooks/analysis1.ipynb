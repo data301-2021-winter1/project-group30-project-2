{
 "cells": [
  {
   "cell_type": "markdown",
   "source": [
    "# Alexander Richkum"
   ],
   "metadata": {}
  },
  {
   "cell_type": "markdown",
   "source": [
    "## What Trends are Apparent in the Ratings and Reviews of the Play Store\r\n",
    "\r\n",
    "My research question is reguarding how the trends found in the ratings and reviews posted in the Play Store dataset can be used to predict future consumer purchasing prefereneces."
   ],
   "metadata": {}
  }
 ],
 "metadata": {
  "orig_nbformat": 4,
  "language_info": {
   "name": "plaintext"
  }
 },
 "nbformat": 4,
 "nbformat_minor": 2
}
