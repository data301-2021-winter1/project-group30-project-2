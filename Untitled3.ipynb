{
 "cells": [
  {
   "cell_type": "code",
   "execution_count": 1,
   "id": "662d6275-caac-4f83-9938-acb66209b356",
   "metadata": {},
   "outputs": [
    {
     "name": "stdout",
     "output_type": "stream",
     "text": [
      "Collecting pdpipe\n",
      "  Downloading pdpipe-0.0.62-py3-none-any.whl (51 kB)\n",
      "\u001b[K     |████████████████████████████████| 51 kB 539 kB/s eta 0:00:011\n",
      "\u001b[?25hCollecting strct\n",
      "  Downloading strct-0.0.32-py2.py3-none-any.whl (16 kB)\n",
      "Collecting skutil>=0.0.15\n",
      "  Downloading skutil-0.0.18-py2.py3-none-any.whl (21 kB)\n",
      "Collecting sortedcontainers\n",
      "  Downloading sortedcontainers-2.4.0-py2.py3-none-any.whl (29 kB)\n",
      "Requirement already satisfied: tqdm in /Users/alexrichkum/Desktop/miniconda3/lib/python3.9/site-packages (from pdpipe) (4.61.2)\n",
      "Requirement already satisfied: pandas>=0.18.0 in /Users/alexrichkum/Desktop/miniconda3/lib/python3.9/site-packages (from pdpipe) (1.3.3)\n",
      "Requirement already satisfied: numpy>=1.17.3 in /Users/alexrichkum/Desktop/miniconda3/lib/python3.9/site-packages (from pandas>=0.18.0->pdpipe) (1.21.3)\n",
      "Requirement already satisfied: python-dateutil>=2.7.3 in /Users/alexrichkum/Desktop/miniconda3/lib/python3.9/site-packages (from pandas>=0.18.0->pdpipe) (2.8.2)\n",
      "Requirement already satisfied: pytz>=2017.3 in /Users/alexrichkum/Desktop/miniconda3/lib/python3.9/site-packages (from pandas>=0.18.0->pdpipe) (2021.1)\n",
      "Requirement already satisfied: six>=1.5 in /Users/alexrichkum/Desktop/miniconda3/lib/python3.9/site-packages (from python-dateutil>=2.7.3->pandas>=0.18.0->pdpipe) (1.16.0)\n",
      "Collecting decore\n",
      "  Downloading decore-0.0.1.tar.gz (19 kB)\n",
      "Building wheels for collected packages: decore\n",
      "  Building wheel for decore (setup.py) ... \u001b[?25ldone\n",
      "\u001b[?25h  Created wheel for decore: filename=decore-0.0.1-py2.py3-none-any.whl size=4192 sha256=87b1df834b7c6c8a827d45647e4c64204d3de2c1bccf26165b8e5f3d2280b6d3\n",
      "  Stored in directory: /Users/alexrichkum/Library/Caches/pip/wheels/d4/39/be/a5fb8089ae58177381dc9ef9ad4fcccedcc0e8ed40ee9213f5\n",
      "Successfully built decore\n",
      "Installing collected packages: decore, strct, sortedcontainers, skutil, pdpipe\n",
      "Successfully installed decore-0.0.1 pdpipe-0.0.62 skutil-0.0.18 sortedcontainers-2.4.0 strct-0.0.32\n",
      "Note: you may need to restart the kernel to use updated packages.\n"
     ]
    }
   ],
   "source": [
    "pip install pdpipe"
   ]
  },
  {
   "cell_type": "code",
   "execution_count": null,
   "id": "225b1d61-2378-4630-a0ff-b30cf428c08e",
   "metadata": {},
   "outputs": [],
   "source": []
  },
  {
   "cell_type": "code",
   "execution_count": 3,
   "id": "c359a19c-720c-4063-8c18-4ed0714c9687",
   "metadata": {},
   "outputs": [],
   "source": [
    "# Task 1\n",
    "import pandas as pd\n",
    "import numpy as np\n",
    "import matplotlib\n",
    "import matplotlib.pyplot as plt\n",
    "import seaborn as sns\n",
    "import missingno\n",
    "%matplotlib inline"
   ]
  },
  {
   "cell_type": "code",
   "execution_count": 4,
   "id": "166827bd-43ce-4d3a-9145-e05e0649c527",
   "metadata": {},
   "outputs": [
    {
     "ename": "FileNotFoundError",
     "evalue": "[Errno 2] No such file or directory: '../data/raw/android-games.csv'",
     "output_type": "error",
     "traceback": [
      "\u001b[0;31m---------------------------------------------------------------------------\u001b[0m",
      "\u001b[0;31mFileNotFoundError\u001b[0m                         Traceback (most recent call last)",
      "\u001b[0;32m<ipython-input-4-635d17828713>\u001b[0m in \u001b[0;36m<module>\u001b[0;34m\u001b[0m\n\u001b[0;32m----> 1\u001b[0;31m \u001b[0mdf\u001b[0m \u001b[0;34m=\u001b[0m \u001b[0mpd\u001b[0m\u001b[0;34m.\u001b[0m\u001b[0mread_csv\u001b[0m\u001b[0;34m(\u001b[0m\u001b[0;34m'../data/raw/android-games.csv'\u001b[0m\u001b[0;34m)\u001b[0m\u001b[0;34m\u001b[0m\u001b[0;34m\u001b[0m\u001b[0m\n\u001b[0m\u001b[1;32m      2\u001b[0m \u001b[0mdf\u001b[0m\u001b[0;34m.\u001b[0m\u001b[0minfo\u001b[0m\u001b[0;34m(\u001b[0m\u001b[0;34m)\u001b[0m\u001b[0;34m\u001b[0m\u001b[0;34m\u001b[0m\u001b[0m\n\u001b[1;32m      3\u001b[0m \u001b[0mdf\u001b[0m\u001b[0;34m.\u001b[0m\u001b[0mhead\u001b[0m\u001b[0;34m(\u001b[0m\u001b[0;34m)\u001b[0m\u001b[0;34m\u001b[0m\u001b[0;34m\u001b[0m\u001b[0m\n",
      "\u001b[0;32m~/Desktop/miniconda3/lib/python3.9/site-packages/pandas/util/_decorators.py\u001b[0m in \u001b[0;36mwrapper\u001b[0;34m(*args, **kwargs)\u001b[0m\n\u001b[1;32m    309\u001b[0m                     \u001b[0mstacklevel\u001b[0m\u001b[0;34m=\u001b[0m\u001b[0mstacklevel\u001b[0m\u001b[0;34m,\u001b[0m\u001b[0;34m\u001b[0m\u001b[0;34m\u001b[0m\u001b[0m\n\u001b[1;32m    310\u001b[0m                 )\n\u001b[0;32m--> 311\u001b[0;31m             \u001b[0;32mreturn\u001b[0m \u001b[0mfunc\u001b[0m\u001b[0;34m(\u001b[0m\u001b[0;34m*\u001b[0m\u001b[0margs\u001b[0m\u001b[0;34m,\u001b[0m \u001b[0;34m**\u001b[0m\u001b[0mkwargs\u001b[0m\u001b[0;34m)\u001b[0m\u001b[0;34m\u001b[0m\u001b[0;34m\u001b[0m\u001b[0m\n\u001b[0m\u001b[1;32m    312\u001b[0m \u001b[0;34m\u001b[0m\u001b[0m\n\u001b[1;32m    313\u001b[0m         \u001b[0;32mreturn\u001b[0m \u001b[0mwrapper\u001b[0m\u001b[0;34m\u001b[0m\u001b[0;34m\u001b[0m\u001b[0m\n",
      "\u001b[0;32m~/Desktop/miniconda3/lib/python3.9/site-packages/pandas/io/parsers/readers.py\u001b[0m in \u001b[0;36mread_csv\u001b[0;34m(filepath_or_buffer, sep, delimiter, header, names, index_col, usecols, squeeze, prefix, mangle_dupe_cols, dtype, engine, converters, true_values, false_values, skipinitialspace, skiprows, skipfooter, nrows, na_values, keep_default_na, na_filter, verbose, skip_blank_lines, parse_dates, infer_datetime_format, keep_date_col, date_parser, dayfirst, cache_dates, iterator, chunksize, compression, thousands, decimal, lineterminator, quotechar, quoting, doublequote, escapechar, comment, encoding, encoding_errors, dialect, error_bad_lines, warn_bad_lines, on_bad_lines, delim_whitespace, low_memory, memory_map, float_precision, storage_options)\u001b[0m\n\u001b[1;32m    584\u001b[0m     \u001b[0mkwds\u001b[0m\u001b[0;34m.\u001b[0m\u001b[0mupdate\u001b[0m\u001b[0;34m(\u001b[0m\u001b[0mkwds_defaults\u001b[0m\u001b[0;34m)\u001b[0m\u001b[0;34m\u001b[0m\u001b[0;34m\u001b[0m\u001b[0m\n\u001b[1;32m    585\u001b[0m \u001b[0;34m\u001b[0m\u001b[0m\n\u001b[0;32m--> 586\u001b[0;31m     \u001b[0;32mreturn\u001b[0m \u001b[0m_read\u001b[0m\u001b[0;34m(\u001b[0m\u001b[0mfilepath_or_buffer\u001b[0m\u001b[0;34m,\u001b[0m \u001b[0mkwds\u001b[0m\u001b[0;34m)\u001b[0m\u001b[0;34m\u001b[0m\u001b[0;34m\u001b[0m\u001b[0m\n\u001b[0m\u001b[1;32m    587\u001b[0m \u001b[0;34m\u001b[0m\u001b[0m\n\u001b[1;32m    588\u001b[0m \u001b[0;34m\u001b[0m\u001b[0m\n",
      "\u001b[0;32m~/Desktop/miniconda3/lib/python3.9/site-packages/pandas/io/parsers/readers.py\u001b[0m in \u001b[0;36m_read\u001b[0;34m(filepath_or_buffer, kwds)\u001b[0m\n\u001b[1;32m    480\u001b[0m \u001b[0;34m\u001b[0m\u001b[0m\n\u001b[1;32m    481\u001b[0m     \u001b[0;31m# Create the parser.\u001b[0m\u001b[0;34m\u001b[0m\u001b[0;34m\u001b[0m\u001b[0;34m\u001b[0m\u001b[0m\n\u001b[0;32m--> 482\u001b[0;31m     \u001b[0mparser\u001b[0m \u001b[0;34m=\u001b[0m \u001b[0mTextFileReader\u001b[0m\u001b[0;34m(\u001b[0m\u001b[0mfilepath_or_buffer\u001b[0m\u001b[0;34m,\u001b[0m \u001b[0;34m**\u001b[0m\u001b[0mkwds\u001b[0m\u001b[0;34m)\u001b[0m\u001b[0;34m\u001b[0m\u001b[0;34m\u001b[0m\u001b[0m\n\u001b[0m\u001b[1;32m    483\u001b[0m \u001b[0;34m\u001b[0m\u001b[0m\n\u001b[1;32m    484\u001b[0m     \u001b[0;32mif\u001b[0m \u001b[0mchunksize\u001b[0m \u001b[0;32mor\u001b[0m \u001b[0miterator\u001b[0m\u001b[0;34m:\u001b[0m\u001b[0;34m\u001b[0m\u001b[0;34m\u001b[0m\u001b[0m\n",
      "\u001b[0;32m~/Desktop/miniconda3/lib/python3.9/site-packages/pandas/io/parsers/readers.py\u001b[0m in \u001b[0;36m__init__\u001b[0;34m(self, f, engine, **kwds)\u001b[0m\n\u001b[1;32m    809\u001b[0m             \u001b[0mself\u001b[0m\u001b[0;34m.\u001b[0m\u001b[0moptions\u001b[0m\u001b[0;34m[\u001b[0m\u001b[0;34m\"has_index_names\"\u001b[0m\u001b[0;34m]\u001b[0m \u001b[0;34m=\u001b[0m \u001b[0mkwds\u001b[0m\u001b[0;34m[\u001b[0m\u001b[0;34m\"has_index_names\"\u001b[0m\u001b[0;34m]\u001b[0m\u001b[0;34m\u001b[0m\u001b[0;34m\u001b[0m\u001b[0m\n\u001b[1;32m    810\u001b[0m \u001b[0;34m\u001b[0m\u001b[0m\n\u001b[0;32m--> 811\u001b[0;31m         \u001b[0mself\u001b[0m\u001b[0;34m.\u001b[0m\u001b[0m_engine\u001b[0m \u001b[0;34m=\u001b[0m \u001b[0mself\u001b[0m\u001b[0;34m.\u001b[0m\u001b[0m_make_engine\u001b[0m\u001b[0;34m(\u001b[0m\u001b[0mself\u001b[0m\u001b[0;34m.\u001b[0m\u001b[0mengine\u001b[0m\u001b[0;34m)\u001b[0m\u001b[0;34m\u001b[0m\u001b[0;34m\u001b[0m\u001b[0m\n\u001b[0m\u001b[1;32m    812\u001b[0m \u001b[0;34m\u001b[0m\u001b[0m\n\u001b[1;32m    813\u001b[0m     \u001b[0;32mdef\u001b[0m \u001b[0mclose\u001b[0m\u001b[0;34m(\u001b[0m\u001b[0mself\u001b[0m\u001b[0;34m)\u001b[0m\u001b[0;34m:\u001b[0m\u001b[0;34m\u001b[0m\u001b[0;34m\u001b[0m\u001b[0m\n",
      "\u001b[0;32m~/Desktop/miniconda3/lib/python3.9/site-packages/pandas/io/parsers/readers.py\u001b[0m in \u001b[0;36m_make_engine\u001b[0;34m(self, engine)\u001b[0m\n\u001b[1;32m   1038\u001b[0m             )\n\u001b[1;32m   1039\u001b[0m         \u001b[0;31m# error: Too many arguments for \"ParserBase\"\u001b[0m\u001b[0;34m\u001b[0m\u001b[0;34m\u001b[0m\u001b[0;34m\u001b[0m\u001b[0m\n\u001b[0;32m-> 1040\u001b[0;31m         \u001b[0;32mreturn\u001b[0m \u001b[0mmapping\u001b[0m\u001b[0;34m[\u001b[0m\u001b[0mengine\u001b[0m\u001b[0;34m]\u001b[0m\u001b[0;34m(\u001b[0m\u001b[0mself\u001b[0m\u001b[0;34m.\u001b[0m\u001b[0mf\u001b[0m\u001b[0;34m,\u001b[0m \u001b[0;34m**\u001b[0m\u001b[0mself\u001b[0m\u001b[0;34m.\u001b[0m\u001b[0moptions\u001b[0m\u001b[0;34m)\u001b[0m  \u001b[0;31m# type: ignore[call-arg]\u001b[0m\u001b[0;34m\u001b[0m\u001b[0;34m\u001b[0m\u001b[0m\n\u001b[0m\u001b[1;32m   1041\u001b[0m \u001b[0;34m\u001b[0m\u001b[0m\n\u001b[1;32m   1042\u001b[0m     \u001b[0;32mdef\u001b[0m \u001b[0m_failover_to_python\u001b[0m\u001b[0;34m(\u001b[0m\u001b[0mself\u001b[0m\u001b[0;34m)\u001b[0m\u001b[0;34m:\u001b[0m\u001b[0;34m\u001b[0m\u001b[0;34m\u001b[0m\u001b[0m\n",
      "\u001b[0;32m~/Desktop/miniconda3/lib/python3.9/site-packages/pandas/io/parsers/c_parser_wrapper.py\u001b[0m in \u001b[0;36m__init__\u001b[0;34m(self, src, **kwds)\u001b[0m\n\u001b[1;32m     49\u001b[0m \u001b[0;34m\u001b[0m\u001b[0m\n\u001b[1;32m     50\u001b[0m         \u001b[0;31m# open handles\u001b[0m\u001b[0;34m\u001b[0m\u001b[0;34m\u001b[0m\u001b[0;34m\u001b[0m\u001b[0m\n\u001b[0;32m---> 51\u001b[0;31m         \u001b[0mself\u001b[0m\u001b[0;34m.\u001b[0m\u001b[0m_open_handles\u001b[0m\u001b[0;34m(\u001b[0m\u001b[0msrc\u001b[0m\u001b[0;34m,\u001b[0m \u001b[0mkwds\u001b[0m\u001b[0;34m)\u001b[0m\u001b[0;34m\u001b[0m\u001b[0;34m\u001b[0m\u001b[0m\n\u001b[0m\u001b[1;32m     52\u001b[0m         \u001b[0;32massert\u001b[0m \u001b[0mself\u001b[0m\u001b[0;34m.\u001b[0m\u001b[0mhandles\u001b[0m \u001b[0;32mis\u001b[0m \u001b[0;32mnot\u001b[0m \u001b[0;32mNone\u001b[0m\u001b[0;34m\u001b[0m\u001b[0;34m\u001b[0m\u001b[0m\n\u001b[1;32m     53\u001b[0m \u001b[0;34m\u001b[0m\u001b[0m\n",
      "\u001b[0;32m~/Desktop/miniconda3/lib/python3.9/site-packages/pandas/io/parsers/base_parser.py\u001b[0m in \u001b[0;36m_open_handles\u001b[0;34m(self, src, kwds)\u001b[0m\n\u001b[1;32m    220\u001b[0m         \u001b[0mLet\u001b[0m \u001b[0mthe\u001b[0m \u001b[0mreaders\u001b[0m \u001b[0mopen\u001b[0m \u001b[0mIOHandles\u001b[0m \u001b[0mafter\u001b[0m \u001b[0mthey\u001b[0m \u001b[0mare\u001b[0m \u001b[0mdone\u001b[0m \u001b[0;32mwith\u001b[0m \u001b[0mtheir\u001b[0m \u001b[0mpotential\u001b[0m \u001b[0mraises\u001b[0m\u001b[0;34m.\u001b[0m\u001b[0;34m\u001b[0m\u001b[0;34m\u001b[0m\u001b[0m\n\u001b[1;32m    221\u001b[0m         \"\"\"\n\u001b[0;32m--> 222\u001b[0;31m         self.handles = get_handle(\n\u001b[0m\u001b[1;32m    223\u001b[0m             \u001b[0msrc\u001b[0m\u001b[0;34m,\u001b[0m\u001b[0;34m\u001b[0m\u001b[0;34m\u001b[0m\u001b[0m\n\u001b[1;32m    224\u001b[0m             \u001b[0;34m\"r\"\u001b[0m\u001b[0;34m,\u001b[0m\u001b[0;34m\u001b[0m\u001b[0;34m\u001b[0m\u001b[0m\n",
      "\u001b[0;32m~/Desktop/miniconda3/lib/python3.9/site-packages/pandas/io/common.py\u001b[0m in \u001b[0;36mget_handle\u001b[0;34m(path_or_buf, mode, encoding, compression, memory_map, is_text, errors, storage_options)\u001b[0m\n\u001b[1;32m    700\u001b[0m         \u001b[0;32mif\u001b[0m \u001b[0mioargs\u001b[0m\u001b[0;34m.\u001b[0m\u001b[0mencoding\u001b[0m \u001b[0;32mand\u001b[0m \u001b[0;34m\"b\"\u001b[0m \u001b[0;32mnot\u001b[0m \u001b[0;32min\u001b[0m \u001b[0mioargs\u001b[0m\u001b[0;34m.\u001b[0m\u001b[0mmode\u001b[0m\u001b[0;34m:\u001b[0m\u001b[0;34m\u001b[0m\u001b[0;34m\u001b[0m\u001b[0m\n\u001b[1;32m    701\u001b[0m             \u001b[0;31m# Encoding\u001b[0m\u001b[0;34m\u001b[0m\u001b[0;34m\u001b[0m\u001b[0;34m\u001b[0m\u001b[0m\n\u001b[0;32m--> 702\u001b[0;31m             handle = open(\n\u001b[0m\u001b[1;32m    703\u001b[0m                 \u001b[0mhandle\u001b[0m\u001b[0;34m,\u001b[0m\u001b[0;34m\u001b[0m\u001b[0;34m\u001b[0m\u001b[0m\n\u001b[1;32m    704\u001b[0m                 \u001b[0mioargs\u001b[0m\u001b[0;34m.\u001b[0m\u001b[0mmode\u001b[0m\u001b[0;34m,\u001b[0m\u001b[0;34m\u001b[0m\u001b[0;34m\u001b[0m\u001b[0m\n",
      "\u001b[0;31mFileNotFoundError\u001b[0m: [Errno 2] No such file or directory: '../data/raw/android-games.csv'"
     ]
    }
   ],
   "source": [
    "df = pd.read_csv('../data/raw/android-games.csv')\n",
    "df.info()\n",
    "df.head()"
   ]
  },
  {
   "cell_type": "code",
   "execution_count": null,
   "id": "5119034f-cffd-4e78-9f85-4f107ae9fa77",
   "metadata": {},
   "outputs": [],
   "source": [
    "Alex Richkum"
   ]
  },
  {
   "cell_type": "code",
   "execution_count": null,
   "id": "19cf0c6e-5d03-414a-8b10-01dc36bf02c1",
   "metadata": {},
   "outputs": [],
   "source": [
    "## What Trends are Apparent in the Ratings and Reviews of the Play Store\n",
    "\n",
    "My research question is reguarding how the trends found in the ratings and reviews posted in the Play Store dataset can be used to predict future consumer purchasing prefereneces."
   ]
  },
  {
   "cell_type": "code",
   "execution_count": null,
   "id": "529d8114-5886-4280-927f-3696c314e62c",
   "metadata": {},
   "outputs": [],
   "source": [
    "df['rank'] = df['rank'].astype('str')\n",
    "\n",
    "df['title'] = df['title'].astype('category')\n",
    "df['total ratings'] = df['total ratings'].astype('category')\n",
    "df['5 star ratings'] = df['5 star ratings'].astype('category')\n",
    "df['4 star ratings'] = df['4 star ratings'].astype('category')\n",
    "df['3 star ratings'] = df['3 star ratings'].astype('category')\n",
    "df['2 star ratings'] = df['2 star ratings'].astype(str).str.strip().astype('category')\n",
    "df['1 star ratings'] = df['1 star ratings'].astype('category')\n",
    "df['growth (30 days)'] = df['growth (30 days)'].astype('category')\n",
    "df['growth (60 days)'] = df['growth (60 days)'].astype('category')\n",
    "df['category'] = df['category'].astype('category')"
   ]
  },
  {
   "cell_type": "code",
   "execution_count": null,
   "id": "53ee8a55-1cfd-48df-85f4-43be464602a3",
   "metadata": {},
   "outputs": [],
   "source": [
    "def time_series_plot(df):\n",
    "    \"\"\"Given dataframe, generate times series plot of numeric data by daily, monthly and yearly frequency\"\"\"\n",
    "    print(\"\\nTo check time series of numeric data  by daily, monthly and yearly frequency\")\n",
    "    if len(df.select_dtypes(include='datetime64').columns)>0:\n",
    "        for col in df.select_dtypes(include='datetime64').columns:\n",
    "            for p in ['D', 'M', 'Y']:\n",
    "                if p=='D':\n",
    "                    print(\"Plotting daily data\")\n",
    "                elif p=='M':\n",
    "                    print(\"Plotting monthly data\")\n",
    "                else:\n",
    "                    print(\"Plotting yearly data\")\n",
    "                for col_num in df.select_dtypes(include=np.number).columns:\n",
    "                    __ = df.copy()\n",
    "                    __ = __.set_index(col)\n",
    "                    __T = __.resample(p).sum()\n",
    "                    ax = __T[[col_num]].plot()\n",
    "                    ax.set_ylim(bottom=0)\n",
    "                    ax.get_yaxis().set_major_formatter(\n",
    "                    matplotlib.ticker.FuncFormatter(lambda x, p: format(int(x), ',')))\n",
    "                    plt.show()\n",
    "\n",
    "                    \n",
    "def numeric_eda(df, hue=None):\n",
    "    \"\"\"Given dataframe, generate EDA of numeric data\"\"\"\n",
    "    print(\"\\nTo check: \\nDistribution of numeric data\")\n",
    "    display(df.describe().T)\n",
    "    columns = df.select_dtypes(include=np.number).columns\n",
    "    figure = plt.figure(figsize=(20, 10))\n",
    "    figure.add_subplot(1, len(columns), 1)\n",
    "    for index, col in enumerate(columns):\n",
    "        if index > 0:\n",
    "            figure.add_subplot(1, len(columns), index + 1)\n",
    "        sns.boxplot(y=col, data=df, boxprops={'facecolor': 'None'})\n",
    "    figure.tight_layout()\n",
    "    plt.show()\n",
    "    \n",
    "    if len(df.select_dtypes(include='category').columns) > 0:\n",
    "        for col_num in df.select_dtypes(include=np.number).columns:\n",
    "            for col in df.select_dtypes(include='category').columns:\n",
    "                fig = sns.catplot(x=col, y=col_num, kind='violin', data=df, height=5, aspect=2)\n",
    "                fig.set_xticklabels(rotation=90)\n",
    "                plt.show()\n",
    "    \n",
    "    # Plot the pairwise joint distributions\n",
    "    print(\"\\nTo check pairwise joint distribution of numeric data\")\n",
    "    if hue==None:\n",
    "        sns.pairplot(df.select_dtypes(include=np.number))\n",
    "    else:\n",
    "        sns.pairplot(df.select_dtypes(include=np.number).join(df[[hue]]), hue=hue)\n",
    "    plt.show()\n",
    "\n",
    "\n",
    "def top5(df):\n",
    "    \"\"\"Given dataframe, generate top 5 unique values for non-numeric data\"\"\"\n",
    "    columns = df.select_dtypes(include=['object', 'category']).columns\n",
    "    for col in columns:\n",
    "        print(\"Top 5 unique values of \" + col)\n",
    "        print(df[col].value_counts().reset_index().rename(columns={\"index\": col, col: \"Count\"})[\n",
    "              :min(5, len(df[col].value_counts()))])\n",
    "        print(\" \")\n",
    "    \n",
    "    \n",
    "def categorical_eda(df, hue=None):\n",
    "    \"\"\"Given dataframe, generate EDA of categorical data\"\"\"\n",
    "    print(\"\\nTo check: \\nUnique count of non-numeric data\\n\")\n",
    "    print(df.select_dtypes(include=['object', 'category']).nunique())\n",
    "    top5(df)\n",
    "    # Plot count distribution of categorical data\n",
    "    for col in df.select_dtypes(include='category').columns:\n",
    "        fig = sns.catplot(x=col, kind=\"count\", data=df, hue=hue)\n",
    "        fig.set_xticklabels(rotation=90)\n",
    "        plt.show()\n",
    "    \n",
    "\n",
    "def eda(df):\n",
    "    \"\"\"Given dataframe, generate exploratory data analysis\"\"\"\n",
    "    # check that input is pandas dataframe\n",
    "    if type(df) != pd.core.frame.DataFrame:\n",
    "        raise TypeError(\"Only pandas dataframe is allowed as input\")\n",
    "        \n",
    "    # replace field that's entirely space (or empty) with NaN\n",
    "    df = df.replace(r'^\\s*$', np.nan, regex=True)\n",
    "\n",
    "    print(\"Preview of data:\")\n",
    "    display(df.head(3))\n",
    "\n",
    "    print(\"\\nTo check: \\n (1) Total number of entries \\n (2) Column types \\n (3) Any null values\\n\")\n",
    "    print(df.info())\n",
    "\n",
    "    # generate preview of entries with null values\n",
    "    if df.isnull().any(axis=None):\n",
    "        print(\"\\nPreview of data with null values:\")\n",
    "        display(df[df.isnull().any(axis=1)].head(3))\n",
    "        missingno.matrix(df)\n",
    "        plt.show()\n",
    "\n",
    "    # generate count statistics of duplicate entries\n",
    "    if len(df[df.duplicated()]) > 0:\n",
    "        print(\"\\n***Number of duplicated entries: \", len(df[df.duplicated()]))\n",
    "        display(df[df.duplicated(keep=False)].sort_values(by=list(df.columns)).head())\n",
    "    else:\n",
    "        print(\"\\nNo duplicated entries found\")\n",
    "\n",
    "    # EDA of categorical data\n",
    "    categorical_eda(df)\n",
    "    \n",
    "    # EDA of numeric data\n",
    "    numeric_eda(df)\n",
    "        \n",
    "    # Plot time series plot of numeric data\n",
    "    time_series_plot(df)"
   ]
  },
  {
   "cell_type": "code",
   "execution_count": null,
   "id": "9e4ab41b-c7a3-4350-9a3c-c80f1bb289c6",
   "metadata": {},
   "outputs": [],
   "source": [
    "eda(df)"
   ]
  },
  {
   "cell_type": "code",
   "execution_count": null,
   "id": "7148b8fe-6a93-4663-a638-65a2aff377e9",
   "metadata": {},
   "outputs": [],
   "source": [
    "## Task 2\n",
    "\n",
    "# leed data\n",
    "df = pd.read.csv('android-games.csv')\n",
    "\n",
    "# keep colums we want\n",
    "\n",
    "df = df[['rank"
   ]
  },
  {
   "cell_type": "code",
   "execution_count": 5,
   "id": "a32d0a88-8489-4739-aa09-cb4d452cc651",
   "metadata": {},
   "outputs": [
    {
     "name": "stdout",
     "output_type": "stream",
     "text": [
      "Collecting scikit-learn\n",
      "  Downloading scikit_learn-1.0.1-cp39-cp39-macosx_10_13_x86_64.whl (8.0 MB)\n",
      "\u001b[K     |████████████████████████████████| 8.0 MB 2.7 MB/s eta 0:00:01\n",
      "\u001b[?25hCollecting joblib>=0.11\n",
      "  Downloading joblib-1.1.0-py2.py3-none-any.whl (306 kB)\n",
      "\u001b[K     |████████████████████████████████| 306 kB 30.3 MB/s eta 0:00:01\n",
      "\u001b[?25hCollecting threadpoolctl>=2.0.0\n",
      "  Downloading threadpoolctl-3.0.0-py3-none-any.whl (14 kB)\n",
      "Requirement already satisfied: numpy>=1.14.6 in /Users/alexrichkum/Desktop/miniconda3/lib/python3.9/site-packages (from scikit-learn) (1.21.3)\n",
      "Requirement already satisfied: scipy>=1.1.0 in /Users/alexrichkum/Desktop/miniconda3/lib/python3.9/site-packages (from scikit-learn) (1.7.1)\n",
      "Installing collected packages: threadpoolctl, joblib, scikit-learn\n",
      "Successfully installed joblib-1.1.0 scikit-learn-1.0.1 threadpoolctl-3.0.0\n",
      "Note: you may need to restart the kernel to use updated packages.\n"
     ]
    }
   ],
   "source": [
    "pip install -U scikit-learn"
   ]
  },
  {
   "cell_type": "code",
   "execution_count": 6,
   "id": "6b4d6519-d49d-4a68-8eae-0ad571088534",
   "metadata": {},
   "outputs": [
    {
     "name": "stdout",
     "output_type": "stream",
     "text": [
      "Requirement already satisfied: numpy in /Users/alexrichkum/Desktop/miniconda3/lib/python3.9/site-packages (1.21.3)\n",
      "Requirement already satisfied: scipy in /Users/alexrichkum/Desktop/miniconda3/lib/python3.9/site-packages (1.7.1)\n",
      "Requirement already satisfied: scikit-learn in /Users/alexrichkum/Desktop/miniconda3/lib/python3.9/site-packages (1.0.1)\n",
      "Requirement already satisfied: joblib>=0.11 in /Users/alexrichkum/Desktop/miniconda3/lib/python3.9/site-packages (from scikit-learn) (1.1.0)\n",
      "Requirement already satisfied: threadpoolctl>=2.0.0 in /Users/alexrichkum/Desktop/miniconda3/lib/python3.9/site-packages (from scikit-learn) (3.0.0)\n",
      "Note: you may need to restart the kernel to use updated packages.\n"
     ]
    }
   ],
   "source": [
    "pip install -U numpy scipy scikit-learn"
   ]
  },
  {
   "cell_type": "code",
   "execution_count": null,
   "id": "7ab8ac22-b3e1-4768-a9ca-725721c4f4b5",
   "metadata": {},
   "outputs": [],
   "source": []
  }
 ],
 "metadata": {
  "kernelspec": {
   "display_name": "Python 3",
   "language": "python",
   "name": "python3"
  },
  "language_info": {
   "codemirror_mode": {
    "name": "ipython",
    "version": 3
   },
   "file_extension": ".py",
   "mimetype": "text/x-python",
   "name": "python",
   "nbconvert_exporter": "python",
   "pygments_lexer": "ipython3",
   "version": "3.9.5"
  }
 },
 "nbformat": 4,
 "nbformat_minor": 5
}
